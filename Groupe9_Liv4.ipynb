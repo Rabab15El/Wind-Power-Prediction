{
 "cells": [
  {
   "cell_type": "markdown",
   "metadata": {
    "id": "8qZtfwfNyONe"
   },
   "source": [
    "Fait par: Rabab Elalaoui & Oumoukelthoum Sidenna"
   ]
  },
  {
   "cell_type": "markdown",
   "metadata": {
    "id": "LA_q1fe0yS3V"
   },
   "source": [
    "# **Documentation et validation des résultats**\n",
    "## **Wind Turbine Scada**"
   ]
  },
  {
   "cell_type": "markdown",
   "metadata": {
    "id": "C9m2iHL8yqTE"
   },
   "source": [
    "# **Documentation des résultats**"
   ]
  },
  {
   "cell_type": "markdown",
   "metadata": {
    "id": "u_ScZ8cNzt0s"
   },
   "source": [
    "\n",
    "\n",
    "### Introduction\n",
    "Dans ce projet, nous avons travaillé sur la prédiction de la production d'énergie éolienne en utilisant des modèles VAR, Random Forest, XGBoost et LSTM. Les caractéristiques des données comprennent la vitesse du vent, la courbe de puissance théorique, la direction du vent et la puissance active.\n",
    "\n",
    "### Méthodologie\n",
    "Nous avons utilisé différents algorithmes de prévision, tels que VAR, Régression linéaire, Random Forest, XGBoost et LSTM, pour entraîner nos modèles. Nous avons également utilisé des techniques de prétraitement de données pour améliorer les performances des modèles. Les raisons de notre choix de méthodes sont : ......\n",
    "\n",
    "### Résultats\n",
    "Les résultats de chaque modèle sont présentés ci-dessous:\n",
    "\n",
    "| Modèle         | RMSE     |\n",
    "|----------------|----------|\n",
    "| VAR            | 1442.83  |\n",
    "| Reg linéaire   | 411.71   |\n",
    "| Random Forest  | 387.97   |\n",
    "| XGBoost        | 189.02   |\n",
    "| LSTM           | 329.83   |\n",
    "\n",
    "Les performances de chaque modèle sont également représentées graphiquement pour faciliter la comparaison.\n",
    "\n"
   ]
  }
 ],
 "metadata": {
  "colab": {
   "provenance": []
  },
  "kernelspec": {
   "display_name": "Python 3 (ipykernel)",
   "language": "python",
   "name": "python3"
  },
  "language_info": {
   "codemirror_mode": {
    "name": "ipython",
    "version": 3
   },
   "file_extension": ".py",
   "mimetype": "text/x-python",
   "name": "python",
   "nbconvert_exporter": "python",
   "pygments_lexer": "ipython3",
   "version": "3.9.13"
  }
 },
 "nbformat": 4,
 "nbformat_minor": 1
}
